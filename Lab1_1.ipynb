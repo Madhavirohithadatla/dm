{
 "cells": [
  {
   "cell_type": "markdown",
   "id": "e66d291c",
   "metadata": {},
   "source": [
    "# 1. Create the following NumPy arrays: "
   ]
  },
  {
   "cell_type": "code",
   "execution_count": 2,
   "id": "b3bee052",
   "metadata": {},
   "outputs": [],
   "source": [
    "import numpy as np"
   ]
  },
  {
   "cell_type": "code",
   "execution_count": 3,
   "id": "18f7633a",
   "metadata": {},
   "outputs": [
    {
     "name": "stdout",
     "output_type": "stream",
     "text": [
      "[0 0 0 0 0 0 0 0 0 0]\n"
     ]
    }
   ],
   "source": [
    "# a) A 1-D array called zeros having 10 elements and all the elements are set to zero.\n",
    "zeros = np.zeros(10,dtype=int)\n",
    "print(zeros)"
   ]
  },
  {
   "cell_type": "code",
   "execution_count": 4,
   "id": "5e3640cb",
   "metadata": {},
   "outputs": [
    {
     "name": "stdout",
     "output_type": "stream",
     "text": [
      "['a' 'e' 'i' 'o' 'u']\n"
     ]
    }
   ],
   "source": [
    "# b) A 1-D array called vowels having the elements ‘a’, ‘e’, ‘i’, ‘o’ and ‘u’. \n",
    "vowels = np.array(['a','e','i','o','u'])\n",
    "print(vowels)"
   ]
  },
  {
   "cell_type": "code",
   "execution_count": 5,
   "id": "6f785527",
   "metadata": {},
   "outputs": [
    {
     "name": "stdout",
     "output_type": "stream",
     "text": [
      "[[1 1 1 1 1]\n",
      " [1 1 1 1 1]]\n"
     ]
    }
   ],
   "source": [
    "# c) A 2-D array called ones having 2 rows and 5 columns and all the elements are set to 1 and  dtype as int.\n",
    "ones = np.ones((2,5),dtype=int)\n",
    "print(ones)"
   ]
  },
  {
   "cell_type": "code",
   "execution_count": 6,
   "id": "6f5fd5aa",
   "metadata": {},
   "outputs": [
    {
     "name": "stdout",
     "output_type": "stream",
     "text": [
      "[[  2.7  -2.  -19. ]\n",
      " [  0.    3.4  99.9]\n",
      " [ 10.6   0.   13. ]]\n"
     ]
    }
   ],
   "source": [
    "# d) Use nested Python lists to create a 2-D array called myarray1 having 3 rows and 3 columns and store the following data: i. 2.7, -2, -19, ii. 0, 3.4, 99.9, iii. 10.6, 0, 13 \n",
    "myarray1 = np.array([[2.7, -2, -19],[0, 3.4, 99.9],[10.6, 0, 13]])\n",
    "print(myarray1)"
   ]
  },
  {
   "cell_type": "code",
   "execution_count": 43,
   "id": "37c777dc",
   "metadata": {},
   "outputs": [
    {
     "name": "stdout",
     "output_type": "stream",
     "text": [
      "[[ 4.  8. 12. 16. 20.]\n",
      " [24. 28. 32. 36. 40.]\n",
      " [44. 48. 52. 56. 60.]]\n"
     ]
    }
   ],
   "source": [
    "# e) A 2-D array called myarray2 using arange() having 3 rows and 5 columns with start value = 4,step size 4 and dtype as float.\n",
    "myarray2 = np.arange(start=4, stop=61, step=4, dtype=float)\n",
    "myarray2.resize(3,5)\n",
    "print(myarray2)\n",
    "\n"
   ]
  },
  {
   "cell_type": "markdown",
   "id": "8f783ee7",
   "metadata": {},
   "source": [
    "# Using the arrays created in the above, write NumPy commands for the following:"
   ]
  },
  {
   "cell_type": "code",
   "execution_count": 44,
   "id": "64423e6a",
   "metadata": {},
   "outputs": [
    {
     "name": "stdout",
     "output_type": "stream",
     "text": [
      "The dimension of array zeros is 1\n",
      "The shape of array zeros is (10,)\n",
      "The size of array zeros is 10\n",
      "Data type of the items in zeros array is  int32\n",
      "The itemsize of array is 4\n"
     ]
    }
   ],
   "source": [
    "# a) Find the dimensions, shape, size, data type of the items and itemsize of arrays zeros, vowels,ones, myarray1 and myarray2.\n",
    "print(\"The dimension of array zeros is\",zeros.ndim)\n",
    "print(\"The shape of array zeros is\",zeros.shape)\n",
    "print(\"The size of array zeros is\",zeros.size)\n",
    "print(\"Data type of the items in zeros array is \",zeros.dtype)\n",
    "print(\"The itemsize of array is\",zeros.itemsize)"
   ]
  },
  {
   "cell_type": "code",
   "execution_count": 45,
   "id": "3d53a876",
   "metadata": {},
   "outputs": [
    {
     "name": "stdout",
     "output_type": "stream",
     "text": [
      "The dimension of array vowels is 1\n",
      "The shape of array vowels is (5,)\n",
      "The size of array vowels is 5\n",
      "Data type of the items in vowels array is  <U1\n",
      "The itemsize of array is 4\n"
     ]
    }
   ],
   "source": [
    "print(\"The dimension of array vowels is\",vowels.ndim)\n",
    "print(\"The shape of array vowels is\",vowels.shape)\n",
    "print(\"The size of array vowels is\",vowels.size)\n",
    "print(\"Data type of the items in vowels array is \",vowels.dtype)\n",
    "print(\"The itemsize of array is\",vowels.itemsize)"
   ]
  },
  {
   "cell_type": "code",
   "execution_count": 46,
   "id": "e0c938f0",
   "metadata": {},
   "outputs": [
    {
     "name": "stdout",
     "output_type": "stream",
     "text": [
      "The dimension of array ones is 2\n",
      "The shape of array vowels is (2, 5)\n",
      "The size of array vowels is 10\n",
      "Data type of the items in ones array is  int32\n",
      "The itemsize of array is 4\n"
     ]
    }
   ],
   "source": [
    "print(\"The dimension of array ones is\",ones.ndim)\n",
    "print(\"The shape of array vowels is\",ones.shape)\n",
    "print(\"The size of array vowels is\",ones.size)\n",
    "print(\"Data type of the items in ones array is \",ones.dtype)\n",
    "print(\"The itemsize of array is\",ones.itemsize)"
   ]
  },
  {
   "cell_type": "code",
   "execution_count": 47,
   "id": "39142769",
   "metadata": {},
   "outputs": [
    {
     "name": "stdout",
     "output_type": "stream",
     "text": [
      "The dimension of array myarray1 is 2\n",
      "The shape of array myarray1 is (3, 3)\n",
      "The size of array myarray1 is 9\n",
      "Data type of the items in myarray1 array is  float64\n",
      "The itemsize of array is 8\n"
     ]
    }
   ],
   "source": [
    "print(\"The dimension of array myarray1 is\",myarray1.ndim)\n",
    "print(\"The shape of array myarray1 is\",myarray1.shape)\n",
    "print(\"The size of array myarray1 is\",myarray1.size)\n",
    "print(\"Data type of the items in myarray1 array is \",myarray1.dtype)\n",
    "print(\"The itemsize of array is\",myarray1.itemsize)"
   ]
  },
  {
   "cell_type": "code",
   "execution_count": 48,
   "id": "966722c6",
   "metadata": {},
   "outputs": [
    {
     "name": "stdout",
     "output_type": "stream",
     "text": [
      "The dimension of array myarray2 is 2\n",
      "The shape of array myarray2 is (3, 5)\n",
      "The size of array myarray2 is 15\n",
      "Data type of the items in zeros array is  float64\n",
      "The itemsize of array is 8\n"
     ]
    }
   ],
   "source": [
    "print(\"The dimension of array myarray2 is\",myarray2.ndim)\n",
    "print(\"The shape of array myarray2 is\",myarray2.shape)\n",
    "print(\"The size of array myarray2 is\",myarray2.size)\n",
    "print(\"Data type of the items in zeros array is \",myarray2.dtype)\n",
    "print(\"The itemsize of array is\",myarray2.itemsize)"
   ]
  },
  {
   "cell_type": "code",
   "execution_count": 49,
   "id": "53662565",
   "metadata": {},
   "outputs": [
    {
     "name": "stdout",
     "output_type": "stream",
     "text": [
      "[[1 1 1 1 1 1 1 1 1 1]]\n"
     ]
    }
   ],
   "source": [
    "# b) Reshape the array ones to have all the 10 elements in a single row. \n",
    "ones = np.ones((2,5),dtype=int)\n",
    "print(ones.reshape(1,10))"
   ]
  },
  {
   "cell_type": "code",
   "execution_count": 50,
   "id": "c3a80b6a",
   "metadata": {},
   "outputs": [
    {
     "name": "stdout",
     "output_type": "stream",
     "text": [
      "e i\n"
     ]
    }
   ],
   "source": [
    "# c) Display the 2nd and 3rd element of the array vowels. \n",
    "print(vowels[1],vowels[2])"
   ]
  },
  {
   "cell_type": "code",
   "execution_count": 51,
   "id": "04ad2cf7",
   "metadata": {},
   "outputs": [
    {
     "name": "stdout",
     "output_type": "stream",
     "text": [
      "[[ 0.   3.4 99.9]\n",
      " [10.6  0.  13. ]]\n"
     ]
    }
   ],
   "source": [
    "# d) Display all elements in the 2nd and 3rd row of the array myarray1. \n",
    "myarray1 = np.array([[2.7,-2,-19],[0,3.4,99.9],[10.6,0,13]])\n",
    "print(myarray1[1:3])"
   ]
  },
  {
   "cell_type": "code",
   "execution_count": 52,
   "id": "4cc686d1",
   "metadata": {},
   "outputs": [
    {
     "name": "stdout",
     "output_type": "stream",
     "text": [
      "[[ 2.7 -2. ]\n",
      " [ 0.   3.4]\n",
      " [10.6  0. ]]\n"
     ]
    }
   ],
   "source": [
    "# e) Display the elements in the 1st and 2nd column of the array myarray1.\n",
    "myarray1 = np.array([[2.7,-2,-19],[0,3.4,99.9],[10.6,0,13]])\n",
    "print(myarray1[0:3,0:2])"
   ]
  },
  {
   "cell_type": "code",
   "execution_count": 53,
   "id": "c7746e59",
   "metadata": {},
   "outputs": [
    {
     "name": "stdout",
     "output_type": "stream",
     "text": [
      "[[ 0.   3.4 99.9]\n",
      " [10.6  0.  13. ]]\n"
     ]
    }
   ],
   "source": [
    "# f) Display the elements in the 1st column of the 2nd and 3rd row of the array myarray1. \n",
    "myarray1 = np.array([[2.7,-2,19],[0,3.4,99.9],[10.6,0,13]])\n",
    "print(myarray1[1:3,0:3])"
   ]
  },
  {
   "cell_type": "code",
   "execution_count": 54,
   "id": "59bb08a5",
   "metadata": {},
   "outputs": [
    {
     "name": "stdout",
     "output_type": "stream",
     "text": [
      "['u' 'o' 'i' 'e' 'a']\n"
     ]
    }
   ],
   "source": [
    "# g) Reverse the array of vowels.\n",
    "vowels = np.array(['a','e','i','o','u'])\n",
    "print(vowels[::-1])"
   ]
  },
  {
   "cell_type": "code",
   "execution_count": 55,
   "id": "6882fce9",
   "metadata": {},
   "outputs": [
    {
     "name": "stdout",
     "output_type": "stream",
     "text": [
      "[[0.33333333 0.33333333 0.33333333 0.33333333 0.33333333]\n",
      " [0.33333333 0.33333333 0.33333333 0.33333333 0.33333333]]\n"
     ]
    }
   ],
   "source": [
    "# h) Divide all elements of array ones by 3. \n",
    "ones = np.ones((2,5),dtype=int)\n",
    "print(ones/3)"
   ]
  },
  {
   "cell_type": "code",
   "execution_count": 57,
   "id": "d6c05400",
   "metadata": {},
   "outputs": [
    {
     "name": "stdout",
     "output_type": "stream",
     "text": [
      "[[  6.7   6.   -7. ]\n",
      " [ 16.   23.4 123.9]\n",
      " [ 38.6  32.   49. ]]\n"
     ]
    }
   ],
   "source": [
    "# i) Add the arrays myarray1 and myarray2.\n",
    "myarray1 = np.array([[2.7,-2,-19],[0,3.4,99.9],[10.6,0,13]])\n",
    "myarray2 = np.arange(4,45,4,dtype=float)\n",
    "myarray2.resize(3,3)\n",
    "print(np.add(myarray1,myarray2))"
   ]
  },
  {
   "cell_type": "code",
   "execution_count": 68,
   "id": "018bc487",
   "metadata": {},
   "outputs": [
    {
     "name": "stdout",
     "output_type": "stream",
     "text": [
      "[[  1.3  10.   31. ]\n",
      " [ 16.   16.6 -75.9]\n",
      " [ 17.4  32.   23. ]]\n"
     ]
    }
   ],
   "source": [
    " # j) Subtract myarray1 from myarray2 and store the result in a new array\n",
    "myarray1 = np.array([[2.7,-2,-19],[0,3.4,99.9],[10.6,0,13]])\n",
    "myarray2 = np.arange(4,45,4,dtype=float)\n",
    "myarray2.resize(3,3)\n",
    "myarray3=np.subtract(myarray2,myarray1)\n",
    "print(myarray3)"
   ]
  },
  {
   "cell_type": "code",
   "execution_count": 59,
   "id": "294a28f2",
   "metadata": {},
   "outputs": [
    {
     "name": "stdout",
     "output_type": "stream",
     "text": [
      "[[-553.2 -626.4 -699.6]\n",
      " [2851.6 3264.8 3678. ]\n",
      " [ 406.4  500.8  595.2]]\n"
     ]
    }
   ],
   "source": [
    "# k) Multiply myarray1 and myarray2 element wise. \n",
    "myarray1 = np.array([[2.7,-2,-19],[0,3.4,99.9],[10.6,0,13]])\n",
    "myarray2 = np.arange(4,40,4,dtype=float)\n",
    "myarray2.resize(3,3)\n",
    "myarray3=np.matmul(myarray1, myarray2)\n",
    "print(myarray3)"
   ]
  },
  {
   "cell_type": "code",
   "execution_count": 60,
   "id": "14bffaf3",
   "metadata": {},
   "outputs": [
    {
     "name": "stdout",
     "output_type": "stream",
     "text": [
      "[[ 138.    19.2  879.2]\n",
      " [ 297.6   36.  2006. ]\n",
      " [ 457.2   52.8 3132.8]]\n"
     ]
    }
   ],
   "source": [
    "# l) Do the matrix multiplication of myarray1 and myarray2 and store the result in a new array myarray3. \n",
    "myarray1 = np.array([[2.7,-2,-19],[0,3.4,99.9],[10.6,0,13]])\n",
    "myarray2 = np.arange(4,45,4,dtype=float)\n",
    "myarray2.resize(3,3)\n",
    "myarray3 = myarray2 @ myarray1\n",
    "print(myarray3)"
   ]
  },
  {
   "cell_type": "code",
   "execution_count": 61,
   "id": "08b9cf9c",
   "metadata": {},
   "outputs": [
    {
     "name": "stdout",
     "output_type": "stream",
     "text": [
      "[[ 0.675      -0.25       -1.58333333]\n",
      " [ 0.          0.17        4.1625    ]\n",
      " [ 0.37857143  0.          0.36111111]]\n"
     ]
    }
   ],
   "source": [
    "# m) Divide myarray1 by myarray2. \n",
    "myarray1 = np.array([[2.7,-2,-19],[0,3.4,99.9],[10.6,0,13]])\n",
    "myarray2 = np.arange(4,45,4,dtype=float)\n",
    "myarray2.resize(3,3)\n",
    "print(myarray1 / myarray2)"
   ]
  },
  {
   "cell_type": "code",
   "execution_count": 62,
   "id": "eedd1a22",
   "metadata": {},
   "outputs": [
    {
     "name": "stdout",
     "output_type": "stream",
     "text": [
      "[[ 9.841500e+00 -4.000000e+00 -3.429500e+03]\n",
      " [ 0.000000e+00  1.965200e+01  4.985015e+05]\n",
      " [ 5.955080e+02  0.000000e+00  1.098500e+03]]\n"
     ]
    }
   ],
   "source": [
    "# n) Find the cube of all elements of myarray1 and divide the resulting array by 2.\n",
    "myarray1 = np.array([[2.7,-2,-19],[0,3.4,99.9],[10.6,0,13]])\n",
    "myarraycube = myarray1 ** 3\n",
    "print(myarraycube/2)"
   ]
  },
  {
   "cell_type": "code",
   "execution_count": 63,
   "id": "9b4cda06",
   "metadata": {},
   "outputs": [
    {
     "name": "stdout",
     "output_type": "stream",
     "text": [
      "[[1.   1.41 1.73 2.   2.24]\n",
      " [2.45 2.65 2.83 3.   3.16]\n",
      " [3.32 3.46 3.61 3.74 3.87]]\n"
     ]
    }
   ],
   "source": [
    "# o) Find the square root of all elements of myarray2 and divide the resulting array by 2. The result should be rounded to two places of decimals.\n",
    "myarray2 = np.arange(4,61,4,dtype=float)\n",
    "myarray2.resize(3,5)\n",
    "arraysqrt = np.sqrt(myarray2)\n",
    "newarraysqrt = arraysqrt/2\n",
    "print(np.around(newarraysqrt,2))"
   ]
  },
  {
   "cell_type": "code",
   "execution_count": 64,
   "id": "37912780",
   "metadata": {},
   "outputs": [
    {
     "name": "stdout",
     "output_type": "stream",
     "text": [
      "[[1 1]\n",
      " [1 1]\n",
      " [1 1]\n",
      " [1 1]\n",
      " [1 1]]\n"
     ]
    }
   ],
   "source": [
    "# p) Find the transpose of ones and myarray2.\n",
    "ones = np.ones((2,5),dtype=int)\n",
    "print(ones.transpose())"
   ]
  },
  {
   "cell_type": "code",
   "execution_count": 65,
   "id": "f83c4d6b",
   "metadata": {},
   "outputs": [
    {
     "name": "stdout",
     "output_type": "stream",
     "text": [
      "[[ 4. 24. 44.]\n",
      " [ 8. 28. 48.]\n",
      " [12. 32. 52.]\n",
      " [16. 36. 56.]\n",
      " [20. 40. 60.]]\n"
     ]
    }
   ],
   "source": [
    "myarray2 = np.arange(4,61,4,dtype=float)\n",
    "myarray2.resize(3,5)\n",
    "print(myarray2.transpose())"
   ]
  },
  {
   "cell_type": "code",
   "execution_count": 30,
   "id": "e67c9353",
   "metadata": {},
   "outputs": [
    {
     "name": "stdout",
     "output_type": "stream",
     "text": [
      "['u' 'o' 'i' 'e' 'a']\n"
     ]
    }
   ],
   "source": [
    "# q) Sort the array vowels in reverse. \n",
    "vowels = np.array(['a','e','i','o','u'])\n",
    "print(vowels[ : : -1])"
   ]
  },
  {
   "cell_type": "code",
   "execution_count": 31,
   "id": "4f1eeaae",
   "metadata": {},
   "outputs": [
    {
     "name": "stdout",
     "output_type": "stream",
     "text": [
      "[[-19.   -2.    2.7]\n",
      " [  0.    3.4  99.9]\n",
      " [  0.   10.6  13. ]]\n"
     ]
    }
   ],
   "source": [
    "# r) Sort the array myarray1 such that it brings the lowest value of the column in the first row and so on.\n",
    "myarray1 = np.array([[2.7,-2,-19],[0,3.4,99.9],[10.6,0,13]])\n",
    "myarray1.sort()\n",
    "print(myarray1)"
   ]
  },
  {
   "cell_type": "code",
   "execution_count": 32,
   "id": "97152265",
   "metadata": {},
   "outputs": [
    {
     "name": "stdout",
     "output_type": "stream",
     "text": [
      "[[ 4.]\n",
      " [24.]\n",
      " [44.]] [[ 8.]\n",
      " [28.]\n",
      " [48.]] [[12.]\n",
      " [32.]\n",
      " [52.]] [[16.]\n",
      " [36.]\n",
      " [56.]] [[20.]\n",
      " [40.]\n",
      " [60.]]\n"
     ]
    }
   ],
   "source": [
    "# s) Use NumPy. split() to split the array myarray2 into 5 arrays column wise. Store your resulting arrays in myarray2A, myarray2B, myarray2C, myarray2D and myarray2E. Print the arrays myarray2A, myarray2B, myarray2C, myarray2D and myarray2E\n",
    "myarray2 = np.arange(4,61,4,dtype=float)\n",
    "myarray2.resize((3,5))\n",
    "myarray2A, myarray2B, myarray2C, myarray2D, myarray2E = np.split(myarray2, indices_or_sections=5, axis=1)\n",
    "print(myarray2A, myarray2B, myarray2C, myarray2D, myarray2E)"
   ]
  },
  {
   "cell_type": "code",
   "execution_count": 33,
   "id": "4807ec9a",
   "metadata": {},
   "outputs": [
    {
     "name": "stdout",
     "output_type": "stream",
     "text": [
      "[0 0] [0 0 0] [0 0] [0]\n"
     ]
    }
   ],
   "source": [
    "# t) Split the array zeros at array index 2, 5, 7, 8 and store the resulting arrays in zerosA, zerosB, zerosC and zerosD and print them.\n",
    "zeros = np.zeros(10,dtype=int)\n",
    "zerosA, zerosB, zerosC, zerosD, _ = np.split(zeros,indices_or_sections=(2,5,7,8))\n",
    "print(zerosA, zerosB, zerosC, zerosD)"
   ]
  },
  {
   "cell_type": "code",
   "execution_count": 66,
   "id": "4066b13e",
   "metadata": {},
   "outputs": [
    {
     "name": "stdout",
     "output_type": "stream",
     "text": [
      "[[ 4.  8. 12.]\n",
      " [24. 28. 32.]\n",
      " [44. 48. 52.]]\n"
     ]
    }
   ],
   "source": [
    "# u) Concatenate the arrays myarray2A, myarray2B and myarray2C into an array having 3 rows and 3 columns\n",
    "myarray2 = np.arange(4,61,4,dtype=float)\n",
    "myarray2.resize(3,5)\n",
    "print(np.concatenate((myarray2A, myarray2B, myarray2C),axis=1))"
   ]
  },
  {
   "cell_type": "code",
   "execution_count": 35,
   "id": "4fa8c08f",
   "metadata": {},
   "outputs": [
    {
     "name": "stdout",
     "output_type": "stream",
     "text": [
      "[[-1.   -0.75 -0.5 ]\n",
      " [-0.25  0.    0.25]\n",
      " [ 0.5   0.75  1.  ]\n",
      " [ 1.25  1.5   1.75]\n",
      " [ 2.    2.25  2.5 ]\n",
      " [ 2.75  3.    3.25]\n",
      " [ 3.5   3.75  4.  ]\n",
      " [ 4.25  4.5   4.75]\n",
      " [ 5.    5.25  5.5 ]\n",
      " [ 5.75  6.    6.25]\n",
      " [ 6.5   6.75  7.  ]\n",
      " [ 7.25  7.5   7.75]\n",
      " [ 8.    8.25  8.5 ]\n",
      " [ 8.75  9.    9.25]]\n"
     ]
    }
   ],
   "source": [
    "# v) Create a 2-D array called myarray4 using arange() having 14 rows and 3 columns with start value = -1, step size 0.25 having. Split this array row wise into 3 equal parts and print the result.\n",
    "\n",
    "myarray4 = np.arange(start=-1, stop=9.5, step=0.25, dtype=float)\n",
    "myarray4 = myarray4.reshape((14,3))\n",
    "print(myarray4)"
   ]
  },
  {
   "cell_type": "markdown",
   "id": "2e470d7c",
   "metadata": {},
   "source": [
    "# w) Using the myarray4 created in the above questions, write commands for the following: "
   ]
  },
  {
   "cell_type": "code",
   "execution_count": 36,
   "id": "1f11b9dd",
   "metadata": {},
   "outputs": [
    {
     "name": "stdout",
     "output_type": "stream",
     "text": [
      "173.25\n"
     ]
    }
   ],
   "source": [
    "# i. Find the sum of all elements. \n",
    "myarray4 = np.arange(-1,45,0.25,dtype=float)\n",
    "myarray4.resize(14,3)\n",
    "print(myarray4.sum())"
   ]
  },
  {
   "cell_type": "code",
   "execution_count": 37,
   "id": "bcfc072f",
   "metadata": {},
   "outputs": [
    {
     "name": "stdout",
     "output_type": "stream",
     "text": [
      "[-2.25  0.    2.25  4.5   6.75  9.   11.25 13.5  15.75 18.   20.25 22.5\n",
      " 24.75 27.  ]\n"
     ]
    }
   ],
   "source": [
    "# ii. Find the sum of all elements row wise.\n",
    "myarray4 = np.arange(-1,45,0.25,dtype=float)\n",
    "myarray4.resize(14,3)\n",
    "print(myarray4.sum(axis=1))"
   ]
  },
  {
   "cell_type": "code",
   "execution_count": 38,
   "id": "6bb99ba9",
   "metadata": {},
   "outputs": [
    {
     "name": "stdout",
     "output_type": "stream",
     "text": [
      "[54.25 57.75 61.25]\n"
     ]
    }
   ],
   "source": [
    "# iii. Find the sum of all elements column wise. \n",
    "myarray4 = np.arange(-1,45,0.25,dtype=float)\n",
    "myarray4.resize(14,3)\n",
    "print(myarray4.sum(axis=0))"
   ]
  },
  {
   "cell_type": "code",
   "execution_count": 39,
   "id": "67bb2cd8",
   "metadata": {},
   "outputs": [
    {
     "name": "stdout",
     "output_type": "stream",
     "text": [
      "9.25\n"
     ]
    }
   ],
   "source": [
    "# iv. Find the max of all elements. \n",
    "myarray4 = np.arange(-1,45,0.25,dtype=float)\n",
    "myarray4.resize(14,3)\n",
    "print(myarray4.max())"
   ]
  },
  {
   "cell_type": "code",
   "execution_count": 40,
   "id": "331d197f",
   "metadata": {},
   "outputs": [
    {
     "name": "stdout",
     "output_type": "stream",
     "text": [
      "[-0.5   0.25  1.    1.75  2.5   3.25  4.    4.75  5.5   6.25  7.    7.75\n",
      "  8.5   9.25]\n"
     ]
    }
   ],
   "source": [
    "# v. Find the min of all elements in each row.\n",
    "myarray4 = np.arange(-1,45,0.25,dtype=float)\n",
    "myarray4.resize(14,3)\n",
    "print(myarray4.max(axis=1))"
   ]
  },
  {
   "cell_type": "code",
   "execution_count": 41,
   "id": "efd47fb1",
   "metadata": {},
   "outputs": [
    {
     "name": "stdout",
     "output_type": "stream",
     "text": [
      "[-0.75  0.    0.75  1.5   2.25  3.    3.75  4.5   5.25  6.    6.75  7.5\n",
      "  8.25  9.  ]\n"
     ]
    }
   ],
   "source": [
    "# vi. Find the mean of all elements in each row. \n",
    "myarray4 = np.arange(-1,45,0.25,dtype=float)\n",
    "myarray4.resize(14,3)\n",
    "print(myarray4.mean(axis=1))"
   ]
  },
  {
   "cell_type": "code",
   "execution_count": 42,
   "id": "1b59939a",
   "metadata": {},
   "outputs": [
    {
     "name": "stdout",
     "output_type": "stream",
     "text": [
      "[3.02334666 3.02334666 3.02334666]\n"
     ]
    }
   ],
   "source": [
    "# vii. Find the standard deviation column wise.\n",
    "myarray4 = np.arange(-1,45,0.25,dtype=float)\n",
    "myarray4.resize(14,3)\n",
    "print(myarray4.std(axis=0))"
   ]
  },
  {
   "cell_type": "code",
   "execution_count": null,
   "id": "263cd60b",
   "metadata": {},
   "outputs": [],
   "source": []
  },
  {
   "cell_type": "code",
   "execution_count": null,
   "id": "934ed268",
   "metadata": {},
   "outputs": [],
   "source": []
  },
  {
   "cell_type": "code",
   "execution_count": null,
   "id": "8b7a41f3",
   "metadata": {},
   "outputs": [],
   "source": []
  },
  {
   "cell_type": "code",
   "execution_count": null,
   "id": "5c0055de",
   "metadata": {},
   "outputs": [],
   "source": []
  }
 ],
 "metadata": {
  "kernelspec": {
   "display_name": "Python 3 (ipykernel)",
   "language": "python",
   "name": "python3"
  },
  "language_info": {
   "codemirror_mode": {
    "name": "ipython",
    "version": 3
   },
   "file_extension": ".py",
   "mimetype": "text/x-python",
   "name": "python",
   "nbconvert_exporter": "python",
   "pygments_lexer": "ipython3",
   "version": "3.9.7"
  }
 },
 "nbformat": 4,
 "nbformat_minor": 5
}

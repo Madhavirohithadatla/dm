{
 "cells": [
  {
   "cell_type": "code",
   "execution_count": 5,
   "id": "cdf2608c",
   "metadata": {},
   "outputs": [
    {
     "data": {
      "text/plain": [
       "array([0, 0, 0, 0, 0, 0, 0, 0, 0, 0])"
      ]
     },
     "execution_count": 5,
     "metadata": {},
     "output_type": "execute_result"
    }
   ],
   "source": [
    "import numpy as np\n",
    "zeros = np.zeros(10, dtype=int)\n",
    "zeros"
   ]
  },
  {
   "cell_type": "code",
   "execution_count": 8,
   "id": "e4f3da3c",
   "metadata": {},
   "outputs": [
    {
     "data": {
      "text/plain": [
       "array(['a', 'e', 'i', 'o', 'u'], dtype='<U1')"
      ]
     },
     "execution_count": 8,
     "metadata": {},
     "output_type": "execute_result"
    }
   ],
   "source": [
    "vowels = np.array(['a','e','i','o','u'])\n",
    "vowels"
   ]
  },
  {
   "cell_type": "code",
   "execution_count": 9,
   "id": "2b04f158",
   "metadata": {},
   "outputs": [
    {
     "data": {
      "text/plain": [
       "array([[1, 1, 1, 1, 1],\n",
       "       [1, 1, 1, 1, 1]])"
      ]
     },
     "execution_count": 9,
     "metadata": {},
     "output_type": "execute_result"
    }
   ],
   "source": [
    "ones = np.ones((2,5), dtype=int)\n",
    "ones"
   ]
  },
  {
   "cell_type": "code",
   "execution_count": 24,
   "id": "b844a817",
   "metadata": {},
   "outputs": [
    {
     "name": "stderr",
     "output_type": "stream",
     "text": [
      "C:\\Users\\y20ca26\\AppData\\Local\\Temp/ipykernel_8628/2005664980.py:1: VisibleDeprecationWarning: Creating an ndarray from ragged nested sequences (which is a list-or-tuple of lists-or-tuples-or ndarrays with different lengths or shapes) is deprecated. If you meant to do this, you must specify 'dtype=object' when creating the ndarray.\n",
      "  myarray1 = np.array([[2.7,-2,-19],[0,3.4,99,9],[10.6,0,13]])\n"
     ]
    },
    {
     "data": {
      "text/plain": [
       "array([list([2.7, -2, -19]), list([0, 3.4, 99, 9]), list([10.6, 0, 13])],\n",
       "      dtype=object)"
      ]
     },
     "execution_count": 24,
     "metadata": {},
     "output_type": "execute_result"
    }
   ],
   "source": [
    "myarray1 = np.array([[2.7,-2,-19],[0,3.4,99,9],[10.6,0,13]])\n",
    "myarray1"
   ]
  },
  {
   "cell_type": "code",
   "execution_count": 19,
   "id": "687ff2b4",
   "metadata": {},
   "outputs": [
    {
     "name": "stdout",
     "output_type": "stream",
     "text": [
      "[[ 4.  8. 12. 16. 20.]\n",
      " [24. 28. 32. 36. 40.]\n",
      " [44. 48. 52. 56. 60.]]\n"
     ]
    }
   ],
   "source": [
    "myarray2 = np.arange(4,61,4,float).reshape(3,5)\n",
    "print(myarray2)"
   ]
  },
  {
   "cell_type": "code",
   "execution_count": 20,
   "id": "351b6d28",
   "metadata": {},
   "outputs": [
    {
     "name": "stdout",
     "output_type": "stream",
     "text": [
      "1\n",
      "(10,)\n",
      "10\n",
      "int32\n",
      "4\n"
     ]
    }
   ],
   "source": [
    "print(zeros.ndim)\n",
    "print(zeros.shape)\n",
    "print(zeros.size)\n",
    "print(zeros.dtype)\n",
    "print(zeros.itemsize)"
   ]
  },
  {
   "cell_type": "code",
   "execution_count": 21,
   "id": "ca924082",
   "metadata": {},
   "outputs": [
    {
     "name": "stdout",
     "output_type": "stream",
     "text": [
      "1\n",
      "(5,)\n",
      "5\n",
      "<U1\n",
      "4\n"
     ]
    }
   ],
   "source": [
    "print(vowels.ndim)\n",
    "print(vowels.shape)\n",
    "print(vowels.size)\n",
    "print(vowels.dtype)\n",
    "print(vowels.itemsize)"
   ]
  },
  {
   "cell_type": "code",
   "execution_count": 22,
   "id": "30d94e20",
   "metadata": {},
   "outputs": [
    {
     "name": "stdout",
     "output_type": "stream",
     "text": [
      "2\n",
      "(2, 5)\n",
      "10\n",
      "int32\n",
      "4\n"
     ]
    }
   ],
   "source": [
    "print(ones.ndim)\n",
    "print(ones.shape)\n",
    "print(ones.size)\n",
    "print(ones.dtype)\n",
    "print(ones.itemsize)"
   ]
  },
  {
   "cell_type": "code",
   "execution_count": 25,
   "id": "febd1f88",
   "metadata": {},
   "outputs": [
    {
     "name": "stdout",
     "output_type": "stream",
     "text": [
      "1\n",
      "(3,)\n",
      "3\n",
      "object\n",
      "8\n"
     ]
    }
   ],
   "source": [
    "print(myarray1.ndim)\n",
    "print(myarray1.shape)\n",
    "print(myarray1.size)\n",
    "print(myarray1.dtype)\n",
    "print(myarray1.itemsize)"
   ]
  },
  {
   "cell_type": "code",
   "execution_count": 26,
   "id": "82e561ef",
   "metadata": {},
   "outputs": [
    {
     "name": "stdout",
     "output_type": "stream",
     "text": [
      "2\n",
      "(3, 5)\n",
      "15\n",
      "float64\n",
      "8\n"
     ]
    }
   ],
   "source": [
    "print(myarray2.ndim)\n",
    "print(myarray2.shape)\n",
    "print(myarray2.size)\n",
    "print(myarray2.dtype)\n",
    "print(myarray2.itemsize)"
   ]
  },
  {
   "cell_type": "code",
   "execution_count": 27,
   "id": "8294b889",
   "metadata": {},
   "outputs": [
    {
     "name": "stdout",
     "output_type": "stream",
     "text": [
      "[[1 1 1 1 1 1 1 1 1 1]]\n"
     ]
    }
   ],
   "source": [
    "ones = np.ones((2,5),dtype=int)\n",
    "print(ones.reshape(1,10))"
   ]
  },
  {
   "cell_type": "code",
   "execution_count": 28,
   "id": "0738d2d1",
   "metadata": {},
   "outputs": [
    {
     "name": "stdout",
     "output_type": "stream",
     "text": [
      "e i\n"
     ]
    }
   ],
   "source": [
    "print(vowels[1],vowels[2])"
   ]
  },
  {
   "cell_type": "code",
   "execution_count": 29,
   "id": "4d5c278c",
   "metadata": {},
   "outputs": [
    {
     "name": "stdout",
     "output_type": "stream",
     "text": [
      "[[ 2.7 -2. ]\n",
      " [ 0.   3.4]\n",
      " [10.6  0. ]]\n"
     ]
    }
   ],
   "source": [
    "myarray1 = np.array([[2.7,-2,-19],[0,3.4,99.9],[10.6,0,13]])\n",
    "print(myarray1[0:3,0:2])"
   ]
  },
  {
   "cell_type": "code",
   "execution_count": null,
   "id": "01c1b186",
   "metadata": {},
   "outputs": [],
   "source": []
  }
 ],
 "metadata": {
  "kernelspec": {
   "display_name": "Python 3 (ipykernel)",
   "language": "python",
   "name": "python3"
  },
  "language_info": {
   "codemirror_mode": {
    "name": "ipython",
    "version": 3
   },
   "file_extension": ".py",
   "mimetype": "text/x-python",
   "name": "python",
   "nbconvert_exporter": "python",
   "pygments_lexer": "ipython3",
   "version": "3.9.7"
  }
 },
 "nbformat": 4,
 "nbformat_minor": 5
}

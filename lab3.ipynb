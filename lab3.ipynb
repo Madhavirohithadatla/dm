{
 "cells": [
  {
   "cell_type": "code",
   "execution_count": 1,
   "id": "28601095",
   "metadata": {},
   "outputs": [
    {
     "data": {
      "text/plain": [
       "array([[4, 1],\n",
       "       [2, 2]])"
      ]
     },
     "execution_count": 1,
     "metadata": {},
     "output_type": "execute_result"
    }
   ],
   "source": [
    "# 3(a) Dot and matrix product of two arrays\n",
    "import numpy as np\n",
    "np.dot(3,4)\n",
    "a = [[1, 0], [0, 1]]\n",
    "b = [[4, 1], [2, 2]]\n",
    "np.dot(a, b)"
   ]
  },
  {
   "cell_type": "code",
   "execution_count": 6,
   "id": "30db730f",
   "metadata": {},
   "outputs": [
    {
     "data": {
      "text/plain": [
       "array([[0.70710678+0.j        , 0.70710678-0.j        ],\n",
       "       [0.        -0.70710678j, 0.        +0.70710678j]])"
      ]
     },
     "execution_count": 6,
     "metadata": {},
     "output_type": "execute_result"
    }
   ],
   "source": [
    "#3(b)Compute the Eigen values of a matrix\n",
    "from numpy import linalg as LA\n",
    "w, v = LA.eig(np.array([[1, -1], [1, 1]]))\n",
    "w; v"
   ]
  },
  {
   "cell_type": "code",
   "execution_count": 7,
   "id": "c5ea5892",
   "metadata": {},
   "outputs": [
    {
     "name": "stdout",
     "output_type": "stream",
     "text": [
      "[2. 3.]\n"
     ]
    }
   ],
   "source": [
    "#3(c)Solve a linear matrix equation such as 3 * x0 + x1 = 9 and x0 + 2 * x1 = 8.\n",
    "a = np.array([[3, 1],[1, 2]])\n",
    "b = np.array([9, 8])\n",
    "x = np.linalg.solve(a,b)\n",
    "print(x)"
   ]
  },
  {
   "cell_type": "code",
   "execution_count": 10,
   "id": "2ab5decd",
   "metadata": {},
   "outputs": [
    {
     "name": "stdout",
     "output_type": "stream",
     "text": [
      "[[ 1.  0.  0.]\n",
      " [-1.  1.  0.]\n",
      " [ 0.  0.  1.]]\n"
     ]
    }
   ],
   "source": [
    "#3(d)Compute the multiplicative inverse of a matrix\n",
    "import numpy as np\n",
    "m = np.matrix([[1, 0, 0], [1, 1, 0], [0, 0, 1]])\n",
    "temp = np.linalg.inv(m)\n",
    "print(temp)"
   ]
  },
  {
   "cell_type": "code",
   "execution_count": 22,
   "id": "b9760399",
   "metadata": {},
   "outputs": [
    {
     "name": "stdout",
     "output_type": "stream",
     "text": [
      "[[1. 0. 0. 0.]\n",
      " [0. 1. 0. 0.]\n",
      " [0. 0. 1. 0.]\n",
      " [0. 0. 0. 0.]]\n",
      "3\n",
      "1\n",
      "0\n"
     ]
    }
   ],
   "source": [
    "#3(e)Compute the rank of a matrix\n",
    "from numpy.linalg import matrix_rank \n",
    "matrix_rank(np.eye(4))\n",
    "I=np.eye(4); I[-1,-1] = 0.\n",
    "rank=matrix_rank(I)\n",
    "print(I)\n",
    "print(rank)\n",
    "ones=matrix_rank(np.ones((4,)))\n",
    "print(ones)\n",
    "zeros=matrix_rank(np.zeros((4,)))\n",
    "print(zeros)"
   ]
  },
  {
   "cell_type": "code",
   "execution_count": 24,
   "id": "6d8a3934",
   "metadata": {},
   "outputs": [
    {
     "name": "stdout",
     "output_type": "stream",
     "text": [
      "-2.0000000000000004\n"
     ]
    }
   ],
   "source": [
    "#3(f)Compute the determinant of an array.\n",
    "import numpy as np\n",
    "a = np.array([[1,2], [3,4]])\n",
    "print (np.linalg.det(a))"
   ]
  },
  {
   "cell_type": "code",
   "execution_count": 26,
   "id": "1c7e5465",
   "metadata": {},
   "outputs": [
    {
     "name": "stdout",
     "output_type": "stream",
     "text": [
      "[[ 6  1  1]\n",
      " [ 4 -2  5]\n",
      " [ 2  8  7]]\n",
      "-306.0\n"
     ]
    }
   ],
   "source": [
    "#3(F)Compute the determinant of an array.\n",
    "b = np.array([[6,1,1],[4,-2,5],[2,8,7]])\n",
    "print(b)\n",
    "print (np.linalg.det(b))"
   ]
  },
  {
   "cell_type": "code",
   "execution_count": null,
   "id": "41ed3dce",
   "metadata": {},
   "outputs": [],
   "source": []
  }
 ],
 "metadata": {
  "kernelspec": {
   "display_name": "Python 3 (ipykernel)",
   "language": "python",
   "name": "python3"
  },
  "language_info": {
   "codemirror_mode": {
    "name": "ipython",
    "version": 3
   },
   "file_extension": ".py",
   "mimetype": "text/x-python",
   "name": "python",
   "nbconvert_exporter": "python",
   "pygments_lexer": "ipython3",
   "version": "3.9.7"
  }
 },
 "nbformat": 4,
 "nbformat_minor": 5
}

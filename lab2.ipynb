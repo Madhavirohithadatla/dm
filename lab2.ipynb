{
 "cells": [
  {
   "cell_type": "code",
   "execution_count": 1,
   "id": "b7c37bdb",
   "metadata": {},
   "outputs": [
    {
     "data": {
      "text/plain": [
       "dtype('int32')"
      ]
     },
     "execution_count": 1,
     "metadata": {},
     "output_type": "execute_result"
    }
   ],
   "source": [
    "#Create multi-dimensional arrays and find its shape and dimension\n",
    "import numpy as np\n",
    "x = np.array([[1,2,3],[4,5,6]], np.int32)\n",
    "type(x)\n",
    "x.shape\n",
    "x.dtype"
   ]
  },
  {
   "cell_type": "code",
   "execution_count": 9,
   "id": "5560bcc8",
   "metadata": {},
   "outputs": [
    {
     "data": {
      "text/plain": [
       "array([0., 0., 0., 0., 0.])"
      ]
     },
     "execution_count": 9,
     "metadata": {},
     "output_type": "execute_result"
    }
   ],
   "source": [
    "#Create a matrix full of zeros and ones\n",
    "np.zeros(5)\n"
   ]
  },
  {
   "cell_type": "code",
   "execution_count": 12,
   "id": "4f1cbf93",
   "metadata": {},
   "outputs": [
    {
     "name": "stdout",
     "output_type": "stream",
     "text": [
      "[[ 1  2  3  4]\n",
      " [ 5  6  7  8]\n",
      " [ 9 10 11 12]]\n"
     ]
    }
   ],
   "source": [
    "#Reshape and flatten data in the array\n",
    "a = np.array([1,2,3,4,5,6,7,8,9,10,11,12])\n",
    "print(np.reshape(a, (3,4)))"
   ]
  },
  {
   "cell_type": "code",
   "execution_count": 14,
   "id": "1168718d",
   "metadata": {},
   "outputs": [
    {
     "name": "stdout",
     "output_type": "stream",
     "text": [
      "[[1 2 3]\n",
      " [4 5 6]\n",
      " [7 8 9]]\n",
      "flattening array\n",
      "[1 2 3 4 5 6 7 8 9]\n"
     ]
    }
   ],
   "source": [
    "#Reshape and flatten data in the array\n",
    "a = np.array([[1,2,3],[4,5,6],[7,8,9]])\n",
    "print(a)\n",
    "print('flattening array')\n",
    "print(a.flatten())"
   ]
  },
  {
   "cell_type": "code",
   "execution_count": 23,
   "id": "b2113134",
   "metadata": {},
   "outputs": [
    {
     "name": "stdout",
     "output_type": "stream",
     "text": [
      "[22 23]\n",
      "[11 16 21 26]\n"
     ]
    }
   ],
   "source": [
    "#Apply indexing and slicing on array\n",
    "a2 = np.array([[10,11,12,13,14],[15,16,17,18,19],[20,21,22,23,24],[25,26,27,28,29]])\n",
    "print(a2[2,2:4])\n",
    "print(a2[:, 1])"
   ]
  },
  {
   "cell_type": "code",
   "execution_count": 31,
   "id": "825fe3d4",
   "metadata": {},
   "outputs": [
    {
     "name": "stdout",
     "output_type": "stream",
     "text": [
      "2.5\n",
      "[2. 3.]\n",
      "[1.5 3.5]\n"
     ]
    }
   ],
   "source": [
    "#Use statistical functions on array - Min, Max, Mean, Median and Standard Deviation\n",
    "#MEAN FUNCTION\n",
    "a = np.array([[1,2],[3,4]])\n",
    "mean=np.mean(a)\n",
    "print(mean)\n",
    "b=np.mean(a, axis=0)\n",
    "print(b)\n",
    "c=np.mean(a,axis=1)\n",
    "print(c)"
   ]
  },
  {
   "cell_type": "code",
   "execution_count": 38,
   "id": "3335f925",
   "metadata": {},
   "outputs": [
    {
     "name": "stdout",
     "output_type": "stream",
     "text": [
      "3.5\n",
      "[6.5 4.5 2.5]\n",
      "[7. 2.]\n"
     ]
    }
   ],
   "source": [
    "#MEDIAN STATISTICAL FUNCTION\n",
    "a = np.array([[10,7,4], [3,2,1]])\n",
    "a\n",
    "b=np.median(a)\n",
    "print(b)\n",
    "c=np.median(a, axis=0)\n",
    "print(c)\n",
    "d=np.median(a,axis=1)\n",
    "print(d)"
   ]
  },
  {
   "cell_type": "code",
   "execution_count": 41,
   "id": "824beaed",
   "metadata": {},
   "outputs": [
    {
     "name": "stdout",
     "output_type": "stream",
     "text": [
      "1.118033988749895\n",
      "[1. 1.]\n",
      "[0.5 0.5]\n"
     ]
    }
   ],
   "source": [
    "#standard deviation in statistical function\n",
    "a = np.array([[1,2],[3,4]])\n",
    "b=np.std(a)\n",
    "print(b)\n",
    "c=np.std(a, axis=0)\n",
    "print(c)\n",
    "d=np.std(a, axis=1)\n",
    "print(d)"
   ]
  },
  {
   "cell_type": "code",
   "execution_count": 48,
   "id": "cf6793d4",
   "metadata": {},
   "outputs": [
    {
     "name": "stdout",
     "output_type": "stream",
     "text": [
      "0\n",
      "[0 1]\n",
      "[0 2]\n"
     ]
    }
   ],
   "source": [
    "#minmum value in the array\n",
    "a = np.arange(4).reshape((2,2))\n",
    "a\n",
    "b = np.amin(a)\n",
    "print(b)\n",
    "c = np.amin(a, axis=0)\n",
    "print(c)\n",
    "d = np.amin(a, axis=1)\n",
    "print(d)"
   ]
  },
  {
   "cell_type": "code",
   "execution_count": 53,
   "id": "aea9bf02",
   "metadata": {},
   "outputs": [
    {
     "name": "stdout",
     "output_type": "stream",
     "text": [
      "3\n",
      "[2 3]\n",
      "[1 3]\n"
     ]
    }
   ],
   "source": [
    "#maximum value in the array\n",
    "a = np.arange(4).reshape((2,2))\n",
    "a\n",
    "b=np.amax(a)\n",
    "print(b)\n",
    "c=np.amax(a, axis=0)\n",
    "print(c)\n",
    "d=np.amax(a, axis=1)\n",
    "print(d)"
   ]
  },
  {
   "cell_type": "code",
   "execution_count": 56,
   "id": "c87a6cfa",
   "metadata": {},
   "outputs": [
    {
     "name": "stdout",
     "output_type": "stream",
     "text": [
      "[[1 2 3]\n",
      " [4 5 6]]\n",
      "[1 2 3 4 5 6]\n"
     ]
    }
   ],
   "source": [
    "#Append data vertically and horizontally\n",
    "a = np.array([1,2,3])\n",
    "b = np.array([4,5,6])\n",
    "c=np.vstack((a,b))\n",
    "print(c)\n",
    "d=np.hstack((a,b))\n",
    "print(d)"
   ]
  }
 ],
 "metadata": {
  "kernelspec": {
   "display_name": "Python 3 (ipykernel)",
   "language": "python",
   "name": "python3"
  },
  "language_info": {
   "codemirror_mode": {
    "name": "ipython",
    "version": 3
   },
   "file_extension": ".py",
   "mimetype": "text/x-python",
   "name": "python",
   "nbconvert_exporter": "python",
   "pygments_lexer": "ipython3",
   "version": "3.9.7"
  }
 },
 "nbformat": 4,
 "nbformat_minor": 5
}

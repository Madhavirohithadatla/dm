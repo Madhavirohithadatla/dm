{
 "cells": [
  {
   "cell_type": "code",
   "execution_count": 1,
   "id": "20503d6b",
   "metadata": {},
   "outputs": [
    {
     "name": "stdout",
     "output_type": "stream",
     "text": [
      "[4.3 4.4 4.6 4.6 4.6 4.7 4.7 4.8 4.8 4.8 4.9 4.9 5.  5.  5.  5.  5.1 5.1\n",
      " 5.1 5.1 5.1 5.2 5.2 5.4 5.4 5.4 5.4 5.7 5.7 5.8]\n"
     ]
    }
   ],
   "source": [
    "# Write a python program to perform transformation of data using Discretization (Binning) and Normalization (MinMaxScaler or MaxAbsScaler) on given dataset.\n",
    "import numpy as np\n",
    "import math\n",
    "import pandas as pd\n",
    "df=pd.read_csv('iris.csv')\n",
    "data=df['SepalLengthCm']\n",
    "data=data[:30]\n",
    "data=np.sort(data)\n",
    "print(data)"
   ]
  },
  {
   "cell_type": "code",
   "execution_count": 2,
   "id": "0bb57268",
   "metadata": {},
   "outputs": [
    {
     "name": "stdout",
     "output_type": "stream",
     "text": [
      "-----------------Mean Bin:----------------- \n",
      " [[4.43333333 4.43333333 4.43333333]\n",
      " [4.63333333 4.63333333 4.63333333]\n",
      " [4.76666667 4.76666667 4.76666667]\n",
      " [4.86666667 4.86666667 4.86666667]\n",
      " [5.         5.         5.        ]\n",
      " [5.06666667 5.06666667 5.06666667]\n",
      " [5.1        5.1        5.1       ]\n",
      " [5.26666667 5.26666667 5.26666667]\n",
      " [5.4        5.4        5.4       ]\n",
      " [5.73333333 5.73333333 5.73333333]]\n"
     ]
    }
   ],
   "source": [
    "b1=np.zeros((10,3))\n",
    "b2=np.zeros((10,3))\n",
    "b3=np.zeros((10,3))\n",
    "for i in range (0,30,3): \n",
    "    k=int(i/3) \n",
    "    mean=(data[i] + data[i+1] + data[i+2] )/3\n",
    "    for j in range(3): \n",
    "        b1[k,j]=mean \n",
    "print(\"-----------------Mean Bin:----------------- \\n\",b1)"
   ]
  },
  {
   "cell_type": "code",
   "execution_count": 3,
   "id": "3ffa9cd3",
   "metadata": {},
   "outputs": [
    {
     "name": "stdout",
     "output_type": "stream",
     "text": [
      "-----------------Median Bin :----------------- \n",
      " [[4.4 4.4 4.4]\n",
      " [4.7 4.7 4.7]\n",
      " [0.  0.  0. ]\n",
      " [0.  0.  0. ]\n",
      " [0.  0.  0. ]\n",
      " [0.  0.  0. ]\n",
      " [0.  0.  0. ]\n",
      " [0.  0.  0. ]\n",
      " [0.  0.  0. ]\n",
      " [0.  0.  0. ]]\n"
     ]
    }
   ],
   "source": [
    "for i in range (0,10,5): \n",
    "  k=int(i/3) \n",
    "  for j in range (3): \n",
    "    b2[k,j]=data[i+1] \n",
    "print(\"-----------------Median Bin :----------------- \\n\",b2)"
   ]
  },
  {
   "cell_type": "code",
   "execution_count": 4,
   "id": "9eb90b91",
   "metadata": {},
   "outputs": [
    {
     "name": "stdout",
     "output_type": "stream",
     "text": [
      "-----------------Boundary Bin:----------------- \n",
      " [[4.3 4.3 4.6]\n",
      " [4.6 4.6 4.7]\n",
      " [4.7 4.8 4.8]\n",
      " [4.8 4.9 4.9]\n",
      " [5.  5.  5. ]\n",
      " [5.  5.1 5.1]\n",
      " [5.1 5.1 5.1]\n",
      " [5.2 5.2 5.4]\n",
      " [5.4 5.4 5.4]\n",
      " [5.7 5.7 5.8]]\n"
     ]
    }
   ],
   "source": [
    "for i in range (0,30,3): \n",
    "  k=int(i/3) \n",
    "  for j in range (3): \n",
    "    if (data[i+j]-data[i]) < (data[i+2]-data[i+j]): \n",
    "      b3[k,j]=data[i] \n",
    "    else: \n",
    "      b3[k,j]=data[i+2]   \n",
    "print(\"-----------------Boundary Bin:----------------- \\n\",b3)"
   ]
  },
  {
   "cell_type": "code",
   "execution_count": 5,
   "id": "67edad0b",
   "metadata": {},
   "outputs": [
    {
     "data": {
      "text/html": [
       "<div>\n",
       "<style scoped>\n",
       "    .dataframe tbody tr th:only-of-type {\n",
       "        vertical-align: middle;\n",
       "    }\n",
       "\n",
       "    .dataframe tbody tr th {\n",
       "        vertical-align: top;\n",
       "    }\n",
       "\n",
       "    .dataframe thead th {\n",
       "        text-align: right;\n",
       "    }\n",
       "</style>\n",
       "<table border=\"1\" class=\"dataframe\">\n",
       "  <thead>\n",
       "    <tr style=\"text-align: right;\">\n",
       "      <th></th>\n",
       "      <th>A</th>\n",
       "      <th>B</th>\n",
       "      <th>C</th>\n",
       "      <th>D</th>\n",
       "    </tr>\n",
       "  </thead>\n",
       "  <tbody>\n",
       "    <tr>\n",
       "      <th>0</th>\n",
       "      <td>5</td>\n",
       "      <td>10</td>\n",
       "      <td>15</td>\n",
       "      <td>20</td>\n",
       "    </tr>\n",
       "    <tr>\n",
       "      <th>1</th>\n",
       "      <td>25</td>\n",
       "      <td>30</td>\n",
       "      <td>35</td>\n",
       "      <td>40</td>\n",
       "    </tr>\n",
       "    <tr>\n",
       "      <th>2</th>\n",
       "      <td>45</td>\n",
       "      <td>50</td>\n",
       "      <td>55</td>\n",
       "      <td>60</td>\n",
       "    </tr>\n",
       "    <tr>\n",
       "      <th>3</th>\n",
       "      <td>65</td>\n",
       "      <td>70</td>\n",
       "      <td>75</td>\n",
       "      <td>80</td>\n",
       "    </tr>\n",
       "  </tbody>\n",
       "</table>\n",
       "</div>"
      ],
      "text/plain": [
       "    A   B   C   D\n",
       "0   5  10  15  20\n",
       "1  25  30  35  40\n",
       "2  45  50  55  60\n",
       "3  65  70  75  80"
      ]
     },
     "metadata": {},
     "output_type": "display_data"
    }
   ],
   "source": [
    "import pandas as pd\n",
    "df = pd.DataFrame([\n",
    "                   [5, 10, 15, 20], \n",
    "                   [25, 30, 35, 40], \n",
    "                   [45, 50, 55, 60], \n",
    "                   [65, 70, 75, 80]], \n",
    "    \n",
    "                   columns=['A', ' B','C', 'D'])\n",
    "\n",
    "display(df)"
   ]
  },
  {
   "cell_type": "code",
   "execution_count": 6,
   "id": "4c103132",
   "metadata": {},
   "outputs": [
    {
     "name": "stdout",
     "output_type": "stream",
     "text": [
      "          A         B         C         D\n",
      "0  0.000000  0.000000  0.000000  0.000000\n",
      "1  0.333333  0.333333  0.333333  0.333333\n",
      "2  0.666667  0.666667  0.666667  0.666667\n",
      "3  1.000000  1.000000  1.000000  1.000000\n"
     ]
    }
   ],
   "source": [
    "df_min_max_scaled = df.copy()\n",
    "  \n",
    "# apply normalization techniques\n",
    "for column in df_min_max_scaled.columns:\n",
    "    df_min_max_scaled[column] = (df_min_max_scaled[column] - df_min_max_scaled[column].min()) / (df_min_max_scaled[column].max() - df_min_max_scaled[column].min())    \n",
    "  \n",
    "# view normalized data\n",
    "print(df_min_max_scaled)"
   ]
  },
  {
   "cell_type": "code",
   "execution_count": 7,
   "id": "eb021ff5",
   "metadata": {},
   "outputs": [
    {
     "data": {
      "text/plain": [
       "<AxesSubplot:>"
      ]
     },
     "execution_count": 7,
     "metadata": {},
     "output_type": "execute_result"
    },
    {
     "data": {
      "image/png": "[encoded data removed]",
      "text/plain": [
       "<Figure size 432x288 with 1 Axes>"
      ]
     },
     "metadata": {
      "needs_background": "light"
     },
     "output_type": "display_data"
    }
   ],
   "source": [
    "import matplotlib.pyplot as plt\n",
    "df_min_max_scaled.plot(kind = 'bar')"
   ]
  },
  {
   "cell_type": "code",
   "execution_count": null,
   "id": "cb8eab94",
   "metadata": {},
   "outputs": [],
   "source": []
  }
 ],
 "metadata": {
  "kernelspec": {
   "display_name": "Python 3 (ipykernel)",
   "language": "python",
   "name": "python3"
  },
  "language_info": {
   "codemirror_mode": {
    "name": "ipython",
    "version": 3
   },
   "file_extension": ".py",
   "mimetype": "text/x-python",
   "name": "python",
   "nbconvert_exporter": "python",
   "pygments_lexer": "ipython3",
   "version": "3.9.7"
  }
 },
 "nbformat": 4,
 "nbformat_minor": 5
}

{
 "cells": [
  {
   "cell_type": "code",
   "execution_count": 2,
   "id": "05ec32b3",
   "metadata": {},
   "outputs": [
    {
     "name": "stdout",
     "output_type": "stream",
     "text": [
      "[0. 0. 0. 0. 0. 0. 0. 0. 0. 0.]\n"
     ]
    }
   ],
   "source": [
    "import numpy as np\n",
    "zeros = np.zeros(10)\n",
    "print(zeros)"
   ]
  },
  {
   "cell_type": "code",
   "execution_count": 2,
   "id": "7bb379d9",
   "metadata": {},
   "outputs": [
    {
     "name": "stdout",
     "output_type": "stream",
     "text": [
      "['a' 'e' 'i' 'o' 'u']\n"
     ]
    }
   ],
   "source": [
    "vowels = np.array(list('aeiou'))\n",
    "print(vowels)"
   ]
  },
  {
   "cell_type": "code",
   "execution_count": 3,
   "id": "bf61e0a6",
   "metadata": {},
   "outputs": [
    {
     "name": "stdout",
     "output_type": "stream",
     "text": [
      "[[1 1 1 1 1]\n",
      " [1 1 1 1 1]]\n"
     ]
    }
   ],
   "source": [
    "ones = np.ones((2,5),dtype = int)\n",
    "print(ones)"
   ]
  },
  {
   "cell_type": "code",
   "execution_count": 49,
   "id": "28ab551b",
   "metadata": {},
   "outputs": [
    {
     "name": "stdout",
     "output_type": "stream",
     "text": [
      "[[  2.7  -2.  -19. ]\n",
      " [  0.    3.4  99.9]\n",
      " [ 10.6   0.   13. ]]\n"
     ]
    }
   ],
   "source": [
    "myarray1 = np.array([[2.7,-2,-19],[0,3.4,99.9],[10.6,0,13]])\n",
    "print(myarray1)"
   ]
  },
  {
   "cell_type": "code",
   "execution_count": 41,
   "id": "b85a9431",
   "metadata": {},
   "outputs": [
    {
     "name": "stdout",
     "output_type": "stream",
     "text": [
      "[[ 4.  8. 12. 16. 20.]\n",
      " [24. 28. 32. 36. 40.]\n",
      " [44. 48. 52. 56. 60.]]\n"
     ]
    }
   ],
   "source": [
    "myarray2 = np.arange(4,61,4,float).reshape(3,5)\n",
    "print(myarray2)"
   ]
  },
  {
   "cell_type": "code",
   "execution_count": 13,
   "id": "41320c59",
   "metadata": {},
   "outputs": [
    {
     "data": {
      "text/plain": [
       "(3, 3)"
      ]
     },
     "execution_count": 13,
     "metadata": {},
     "output_type": "execute_result"
    }
   ],
   "source": [
    "np.shape(myarray1)"
   ]
  },
  {
   "cell_type": "code",
   "execution_count": 14,
   "id": "698e2c59",
   "metadata": {},
   "outputs": [
    {
     "data": {
      "text/plain": [
       "9"
      ]
     },
     "execution_count": 14,
     "metadata": {},
     "output_type": "execute_result"
    }
   ],
   "source": [
    "np.size(myarray1)"
   ]
  },
  {
   "cell_type": "code",
   "execution_count": 18,
   "id": "f19a3fed",
   "metadata": {},
   "outputs": [
    {
     "name": "stdout",
     "output_type": "stream",
     "text": [
      "float64\n"
     ]
    }
   ],
   "source": [
    "print(myarray1.dtype)"
   ]
  },
  {
   "cell_type": "code",
   "execution_count": 19,
   "id": "2d1331b4",
   "metadata": {},
   "outputs": [
    {
     "name": "stdout",
     "output_type": "stream",
     "text": [
      "float64\n"
     ]
    }
   ],
   "source": [
    "print(myarray2.dtype)"
   ]
  },
  {
   "cell_type": "code",
   "execution_count": 21,
   "id": "d4c0e0bd",
   "metadata": {},
   "outputs": [
    {
     "data": {
      "text/plain": [
       "5"
      ]
     },
     "execution_count": 21,
     "metadata": {},
     "output_type": "execute_result"
    }
   ],
   "source": [
    "np.size(ones)"
   ]
  },
  {
   "cell_type": "code",
   "execution_count": 22,
   "id": "312fbf9f",
   "metadata": {},
   "outputs": [
    {
     "data": {
      "text/plain": [
       "5"
      ]
     },
     "execution_count": 22,
     "metadata": {},
     "output_type": "execute_result"
    }
   ],
   "source": [
    "np.size(vowels)"
   ]
  },
  {
   "cell_type": "code",
   "execution_count": 23,
   "id": "fabb8add",
   "metadata": {},
   "outputs": [
    {
     "data": {
      "text/plain": [
       "10"
      ]
     },
     "execution_count": 23,
     "metadata": {},
     "output_type": "execute_result"
    }
   ],
   "source": [
    "np.size(zeros)"
   ]
  },
  {
   "cell_type": "code",
   "execution_count": 24,
   "id": "3de00369",
   "metadata": {},
   "outputs": [
    {
     "name": "stdout",
     "output_type": "stream",
     "text": [
      "2\n"
     ]
    }
   ],
   "source": [
    "print(myarray1.ndim)"
   ]
  },
  {
   "cell_type": "code",
   "execution_count": 25,
   "id": "c1ba45aa",
   "metadata": {},
   "outputs": [
    {
     "name": "stdout",
     "output_type": "stream",
     "text": [
      "2\n"
     ]
    }
   ],
   "source": [
    "print(myarray2.ndim)"
   ]
  },
  {
   "cell_type": "code",
   "execution_count": 26,
   "id": "d70c7265",
   "metadata": {},
   "outputs": [
    {
     "data": {
      "text/plain": [
       "(2, 5)"
      ]
     },
     "execution_count": 26,
     "metadata": {},
     "output_type": "execute_result"
    }
   ],
   "source": [
    "np.shape(ones)"
   ]
  },
  {
   "cell_type": "code",
   "execution_count": 27,
   "id": "27093ed8",
   "metadata": {},
   "outputs": [
    {
     "data": {
      "text/plain": [
       "(5,)"
      ]
     },
     "execution_count": 27,
     "metadata": {},
     "output_type": "execute_result"
    }
   ],
   "source": [
    "np.shape(vowels)"
   ]
  },
  {
   "cell_type": "code",
   "execution_count": 28,
   "id": "fd06023b",
   "metadata": {},
   "outputs": [
    {
     "data": {
      "text/plain": [
       "(10,)"
      ]
     },
     "execution_count": 28,
     "metadata": {},
     "output_type": "execute_result"
    }
   ],
   "source": [
    "np.shape(zeros)"
   ]
  },
  {
   "cell_type": "code",
   "execution_count": 36,
   "id": "b4736100",
   "metadata": {},
   "outputs": [
    {
     "name": "stdout",
     "output_type": "stream",
     "text": [
      "1\n"
     ]
    }
   ],
   "source": [
    "print(vowels.ndim)"
   ]
  },
  {
   "cell_type": "code",
   "execution_count": 37,
   "id": "c6ddafac",
   "metadata": {},
   "outputs": [
    {
     "name": "stdout",
     "output_type": "stream",
     "text": [
      "2\n"
     ]
    }
   ],
   "source": [
    "print(ones.ndim)"
   ]
  },
  {
   "cell_type": "code",
   "execution_count": 38,
   "id": "7be76848",
   "metadata": {},
   "outputs": [
    {
     "name": "stdout",
     "output_type": "stream",
     "text": [
      "1\n"
     ]
    }
   ],
   "source": [
    "print(zeros.ndim)"
   ]
  },
  {
   "cell_type": "code",
   "execution_count": 44,
   "id": "75a8a775",
   "metadata": {},
   "outputs": [
    {
     "data": {
      "text/plain": [
       "array([1, 1, 1, 1, 1, 1, 1, 1, 1, 1])"
      ]
     },
     "execution_count": 44,
     "metadata": {},
     "output_type": "execute_result"
    }
   ],
   "source": [
    "ones.reshape((10))"
   ]
  },
  {
   "cell_type": "code",
   "execution_count": 46,
   "id": "bb6bd2cc",
   "metadata": {},
   "outputs": [
    {
     "data": {
      "text/plain": [
       "array(['e', 'i'], dtype='<U1')"
      ]
     },
     "execution_count": 46,
     "metadata": {},
     "output_type": "execute_result"
    }
   ],
   "source": [
    "vowels[[1,2]]"
   ]
  },
  {
   "cell_type": "code",
   "execution_count": 47,
   "id": "2ee8ee93",
   "metadata": {},
   "outputs": [
    {
     "data": {
      "text/plain": [
       "array([[ 0. ,  3.4, 99.9],\n",
       "       [10.6,  0. , 13. ]])"
      ]
     },
     "execution_count": 47,
     "metadata": {},
     "output_type": "execute_result"
    }
   ],
   "source": [
    "myarray1[[1,2]]"
   ]
  },
  {
   "cell_type": "code",
   "execution_count": 50,
   "id": "4533f258",
   "metadata": {},
   "outputs": [
    {
     "data": {
      "text/plain": [
       "array([[ 2.7,  0. , 10.6],\n",
       "       [-2. ,  3.4,  0. ]])"
      ]
     },
     "execution_count": 50,
     "metadata": {},
     "output_type": "execute_result"
    }
   ],
   "source": [
    "myarray1.T[[0,1]]"
   ]
  },
  {
   "cell_type": "code",
   "execution_count": 54,
   "id": "3b2c39f3",
   "metadata": {},
   "outputs": [
    {
     "data": {
      "text/plain": [
       "array([[ 10.6,   0. ,  13. ],\n",
       "       [  0. ,   3.4,  99.9],\n",
       "       [  2.7,  -2. , -19. ]])"
      ]
     },
     "execution_count": 54,
     "metadata": {},
     "output_type": "execute_result"
    }
   ],
   "source": [
    "myarray1[::-1]"
   ]
  },
  {
   "cell_type": "code",
   "execution_count": 57,
   "id": "9a1f5e79",
   "metadata": {},
   "outputs": [
    {
     "data": {
      "text/plain": [
       "array([0. , 2.7])"
      ]
     },
     "execution_count": 57,
     "metadata": {},
     "output_type": "execute_result"
    }
   ],
   "source": [
    "myarray1.T[[0,0],[1,0]]"
   ]
  },
  {
   "cell_type": "code",
   "execution_count": 16,
   "id": "81d4bf14",
   "metadata": {},
   "outputs": [
    {
     "data": {
      "text/plain": [
       "[[2.7, -2, -19],\n",
       " [0, 3.4, 99.9],\n",
       " [10.6, 0, 65],\n",
       " [4, 8, 12],\n",
       " [24, 28, 32],\n",
       " [44, 48, 52]]"
      ]
     },
     "execution_count": 16,
     "metadata": {},
     "output_type": "execute_result"
    }
   ],
   "source": [
    "myarray1 + myarray2"
   ]
  },
  {
   "cell_type": "code",
   "execution_count": 19,
   "id": "f0e987ac",
   "metadata": {},
   "outputs": [
    {
     "name": "stdout",
     "output_type": "stream",
     "text": [
      "[[2.7, -2, -19], [0, 3.4, 99.9], [10.6, 0, 65]]\n"
     ]
    }
   ],
   "source": [
    "print(myarray1)"
   ]
  },
  {
   "cell_type": "code",
   "execution_count": 21,
   "id": "cd524468",
   "metadata": {},
   "outputs": [
    {
     "ename": "TypeError",
     "evalue": "unsupported operand type(s) for ** or pow(): 'list' and 'int'",
     "output_type": "error",
     "traceback": [
      "\u001b[1;31m---------------------------------------------------------------------------\u001b[0m",
      "\u001b[1;31mTypeError\u001b[0m                                 Traceback (most recent call last)",
      "\u001b[1;32m~\\AppData\\Local\\Temp/ipykernel_8068/3995363252.py\u001b[0m in \u001b[0;36m<module>\u001b[1;34m\u001b[0m\n\u001b[1;32m----> 1\u001b[1;33m \u001b[0mmyarray1\u001b[0m \u001b[1;33m**\u001b[0m \u001b[1;36m3\u001b[0m\u001b[1;33m\u001b[0m\u001b[1;33m\u001b[0m\u001b[0m\n\u001b[0m",
      "\u001b[1;31mTypeError\u001b[0m: unsupported operand type(s) for ** or pow(): 'list' and 'int'"
     ]
    }
   ],
   "source": [
    "myarray1 ** 3"
   ]
  }
 ],
 "metadata": {
  "kernelspec": {
   "display_name": "Python 3 (ipykernel)",
   "language": "python",
   "name": "python3"
  },
  "language_info": {
   "codemirror_mode": {
    "name": "ipython",
    "version": 3
   },
   "file_extension": ".py",
   "mimetype": "text/x-python",
   "name": "python",
   "nbconvert_exporter": "python",
   "pygments_lexer": "ipython3",
   "version": "3.9.7"
  }
 },
 "nbformat": 4,
 "nbformat_minor": 5
}

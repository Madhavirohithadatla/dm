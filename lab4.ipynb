{
 "cells": [
  {
   "cell_type": "code",
   "execution_count": 2,
   "id": "35e8e80b",
   "metadata": {},
   "outputs": [
    {
     "name": "stdout",
     "output_type": "stream",
     "text": [
      "[13 15 16 16 19 20 20 21 22 22 25 25 25 25 30 33 33 35 35 35 35 36 40 45\n",
      " 46 52 70]\n",
      "0     13\n",
      "1     15\n",
      "2     16\n",
      "3     16\n",
      "4     19\n",
      "5     20\n",
      "6     20\n",
      "7     21\n",
      "8     22\n",
      "9     22\n",
      "10    25\n",
      "11    25\n",
      "12    25\n",
      "13    25\n",
      "14    30\n",
      "15    33\n",
      "16    33\n",
      "17    35\n",
      "18    35\n",
      "19    35\n",
      "20    35\n",
      "21    36\n",
      "22    40\n",
      "23    45\n",
      "24    46\n",
      "25    52\n",
      "26    70\n",
      "dtype: int32\n",
      "mean: 29\n",
      "mode [25, 35]\n",
      "median: 25\n"
     ]
    }
   ],
   "source": [
    "#Calculate measures of Central Tendency\n",
    "import math\n",
    "import statistics\n",
    "import numpy as np\n",
    "import scipy.stats\n",
    "import pandas as pd\n",
    "\n",
    "age = np.array([ 13, 15, 16, 16, 19, 20, 20, 21, 22, 22, 25, 25, 25, 25, 30, 33, 33, 35, 35, 35, 35, 36, 40, 45, 46, 52, 70])\n",
    "\n",
    "print(age)\n",
    "\n",
    "data = pd.Series(age)\n",
    "\n",
    "print(data)\n",
    "\n",
    "\n",
    "mean_ = statistics.mean(age)# mean = sum(age)/len(age),print(data.mean())\n",
    "print(\"mean:\",mean_)\n",
    "mode = statistics.multimode(age)\n",
    "print(\"mode\",mode)\n",
    "median = statistics.median(age)\n",
    "print(\"median:\",median)"
   ]
  },
  {
   "cell_type": "code",
   "execution_count": 3,
   "id": "a0507aa3",
   "metadata": {},
   "outputs": [
    {
     "name": "stdout",
     "output_type": "stream",
     "text": [
      "Quartiles =  [16.0, 20.0, 21.8, 25.0, 25.0, 33.0, 35.0, 35.8, 45.4]\n",
      "Q1= 16.0\n",
      "Q3= 21.8\n"
     ]
    }
   ],
   "source": [
    "#To find (roughly) the first quartile (Q1) and the third quartile (Q3) of the data.\n",
    "quartile = statistics.quantiles(age, n=10, method='inclusive')\n",
    "print('Quartiles = ',quartile)\n",
    "print(\"Q1=\",quartile[0])\n",
    "print(\"Q3=\",quartile[2])"
   ]
  },
  {
   "cell_type": "code",
   "execution_count": 4,
   "id": "d3187d6f",
   "metadata": {},
   "outputs": [
    {
     "name": "stdout",
     "output_type": "stream",
     "text": [
      "count    27.000000\n",
      "mean     29.962963\n",
      "std      12.942124\n",
      "min      13.000000\n",
      "25%      20.500000\n",
      "50%      25.000000\n",
      "75%      35.000000\n",
      "max      70.000000\n",
      "dtype: float64\n"
     ]
    },
    {
     "data": {
      "text/plain": [
       "'\\'print(\"count :\",number[\\'count\\'])\\nprint(\"mean:\",number[\"mean\"])\\nprint(\"meadian:\",number[\\'meadian\\'])'"
      ]
     },
     "execution_count": 4,
     "metadata": {},
     "output_type": "execute_result"
    }
   ],
   "source": [
    "#Give the five-number summary of the data. \n",
    "number = data.describe()\n",
    "print(number)\n",
    "''''print(\"count :\",number['count'])\n",
    "print(\"mean:\",number[\"mean\"])\n",
    "print(\"meadian:\",number['meadian'])'''"
   ]
  },
  {
   "cell_type": "code",
   "execution_count": 1,
   "id": "16dcddf6",
   "metadata": {},
   "outputs": [
    {
     "ename": "NameError",
     "evalue": "name 'age' is not defined",
     "output_type": "error",
     "traceback": [
      "\u001b[1;31m---------------------------------------------------------------------------\u001b[0m",
      "\u001b[1;31mNameError\u001b[0m                                 Traceback (most recent call last)",
      "\u001b[1;32m~\\AppData\\Local\\Temp/ipykernel_4032/1245248131.py\u001b[0m in \u001b[0;36m<module>\u001b[1;34m\u001b[0m\n\u001b[0;32m      2\u001b[0m \u001b[1;32mimport\u001b[0m \u001b[0mmatplotlib\u001b[0m\u001b[1;33m.\u001b[0m\u001b[0mpyplot\u001b[0m \u001b[1;32mas\u001b[0m \u001b[0mplt\u001b[0m\u001b[1;33m\u001b[0m\u001b[1;33m\u001b[0m\u001b[0m\n\u001b[0;32m      3\u001b[0m \u001b[0mfig\u001b[0m\u001b[1;33m,\u001b[0m \u001b[0mage1\u001b[0m \u001b[1;33m=\u001b[0m \u001b[0mplt\u001b[0m\u001b[1;33m.\u001b[0m\u001b[0msubplots\u001b[0m\u001b[1;33m(\u001b[0m\u001b[1;33m)\u001b[0m\u001b[1;33m\u001b[0m\u001b[1;33m\u001b[0m\u001b[0m\n\u001b[1;32m----> 4\u001b[1;33m \u001b[0mage1\u001b[0m\u001b[1;33m.\u001b[0m\u001b[0mboxplot\u001b[0m\u001b[1;33m(\u001b[0m\u001b[1;33m(\u001b[0m\u001b[0mage\u001b[0m\u001b[1;33m)\u001b[0m\u001b[1;33m)\u001b[0m\u001b[1;33m\u001b[0m\u001b[1;33m\u001b[0m\u001b[0m\n\u001b[0m\u001b[0;32m      5\u001b[0m \u001b[0mplt\u001b[0m\u001b[1;33m.\u001b[0m\u001b[0mshow\u001b[0m\u001b[1;33m(\u001b[0m\u001b[1;33m)\u001b[0m\u001b[1;33m\u001b[0m\u001b[1;33m\u001b[0m\u001b[0m\n",
      "\u001b[1;31mNameError\u001b[0m: name 'age' is not defined"
     ]
    },
    {
     "data": {
      "image/png": "[encoded data removed]",
      "text/plain": [
       "<Figure size 432x288 with 1 Axes>"
      ]
     },
     "metadata": {
      "needs_background": "light"
     },
     "output_type": "display_data"
    }
   ],
   "source": [
    "#Show a boxplot of the data.\n",
    "import matplotlib.pyplot as plt\n",
    "fig, age1 = plt.subplots()\n",
    "age1.boxplot((age))\n",
    "plt.show()"
   ]
  },
  {
   "cell_type": "code",
   "execution_count": null,
   "id": "1b2dbb4e",
   "metadata": {},
   "outputs": [],
   "source": []
  }
 ],
 "metadata": {
  "kernelspec": {
   "display_name": "Python 3 (ipykernel)",
   "language": "python",
   "name": "python3"
  },
  "language_info": {
   "codemirror_mode": {
    "name": "ipython",
    "version": 3
   },
   "file_extension": ".py",
   "mimetype": "text/x-python",
   "name": "python",
   "nbconvert_exporter": "python",
   "pygments_lexer": "ipython3",
   "version": "3.9.7"
  }
 },
 "nbformat": 4,
 "nbformat_minor": 5
}
